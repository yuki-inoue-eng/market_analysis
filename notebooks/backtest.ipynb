{
 "cells": [
  {
   "cell_type": "code",
   "execution_count": 9,
   "metadata": {
    "collapsed": true
   },
   "outputs": [],
   "source": [
    "from pyalgotrade import strategy\n",
    "from datetime import datetime\n",
    "from oanda import fx_lib\n",
    "import math\n",
    "import json\n",
    "\n",
    "class NU3B(strategy.BacktestingStrategy):\n",
    "    def __init__(self, feed, instrument, order_books):\n",
    "        super(NU3B, self).__init__(feed)\n",
    "        self.__instrument = instrument\n",
    "        self.__prices = feed[instrument].getPriceDataSeries()\n",
    "        self.__order_books = order_books\n",
    "        self.__sliding_minutes = 1\n",
    "        self.setUseEventDateTimeInLogs(False)\n",
    "        self.setDebugMode(False)\n",
    "\n",
    "    def onBars(self, bars):\n",
    "        if self.is_lambda_invoke_time() and self.is_restraint_time_zone():\n",
    "            self.cancel_all_exist_orders()\n",
    "            self.close_all_open_position()\n",
    "        if self.is_lambda_invoke_time() and not self.is_restraint_time_zone():\n",
    "            self.cancel_all_exist_orders()\n",
    "            ob = order_book[self.getCurrentDateTime().timestamp()]\n",
    "            buckets = fx_lib.divide_buckets_up_and_down(ob)\n",
    "            \n",
    "\n",
    "\n",
    "            # self.info(self.getCurrentDateTime())\n",
    "            # order_book を確認して注文する\n",
    "\n",
    "    def is_lambda_invoke_time(self):\n",
    "        dt = math.floor(self.getCurrentDateTime().timestamp()) - (self.__sliding_minutes * 60)\n",
    "        return fx_lib.is_order_book_update_time(datetime.fromtimestamp(dt))\n",
    "\n",
    "    def is_restraint_time_zone(self):\n",
    "        return self.getCurrentDateTime().hour == 21 or self.getCurrentDateTime().hour == 20\n",
    "\n",
    "    def cancel_all_exist_orders(self):\n",
    "        for p in self.getActivePositions():\n",
    "            if p.entryActive():\n",
    "                p.cancelExit()\n",
    "                p.cancelEntry()\n",
    "\n",
    "    def close_all_open_position(self):\n",
    "        for p in self.getActivePositions():\n",
    "            if p.isOpen():\n",
    "                p.exitMarket()"
   ]
  },
  {
   "cell_type": "code",
   "execution_count": 10,
   "outputs": [
    {
     "name": "stdout",
     "output_type": "stream",
     "text": [
      "153.77074098587036\n"
     ]
    }
   ],
   "source": [
    "from pyalgotrade.barfeed import csvfeed\n",
    "from pyalgotrade.bar import Frequency\n",
    "import time\n",
    "feed = csvfeed.GenericBarFeed(frequency=5*Frequency.SECOND)\n",
    "feed.addBarsFromCSV(\"USD_JPY\", \"../data/candles/USD_JPY_S5_2020.csv\")\n",
    "order_book_json = open(\"../data/order_book/USD_JPY_OB_2020.json\")\n",
    "order_book = json.load(order_book_json)\n",
    "myStrategy = NU3B(feed, \"USD_JPY\", order_book)\n",
    "start = time.time()\n",
    "myStrategy.run()\n",
    "elapsed_time = time.time() - start\n",
    "print(elapsed_time)"
   ],
   "metadata": {
    "collapsed": false,
    "pycharm": {
     "name": "#%%\n"
    }
   }
  }
 ],
 "metadata": {
  "kernelspec": {
   "display_name": "Python 3",
   "language": "python",
   "name": "python3"
  },
  "language_info": {
   "codemirror_mode": {
    "name": "ipython",
    "version": 2
   },
   "file_extension": ".py",
   "mimetype": "text/x-python",
   "name": "python",
   "nbconvert_exporter": "python",
   "pygments_lexer": "ipython2",
   "version": "2.7.6"
  }
 },
 "nbformat": 4,
 "nbformat_minor": 0
}