{
 "cells": [
  {
   "cell_type": "code",
   "execution_count": 1,
   "metadata": {
    "collapsed": true
   },
   "outputs": [],
   "source": [
    "from pyalgotrade import strategy\n",
    "from pyalgotrade.technical import ma\n",
    "from pyalgotrade.technical import cross\n",
    "import time\n",
    "\n",
    "\n",
    "class SMACrossOver(strategy.BacktestingStrategy):\n",
    "    def __init__(self, feed, instrument, smaPeriod):\n",
    "        super(SMACrossOver, self).__init__(feed)\n",
    "        self.__instrument = instrument\n",
    "        self.__position = None\n",
    "        self.__prices = feed[instrument].getPriceDataSeries()\n",
    "        self.__sma = ma.SMA(self.__prices, smaPeriod)\n",
    "\n",
    "    def getSMA(self):\n",
    "        return self.__sma\n",
    "\n",
    "    def onEnterCanceled(self, position):\n",
    "        self.__position = None\n",
    "\n",
    "    def onExitOk(self, position):\n",
    "        self.__position = None\n",
    "\n",
    "    def onExitCanceled(self, position):\n",
    "        # If the exit was canceled, re-submit it.\n",
    "        self.__position.exitMarket()\n",
    "\n",
    "    def onBars(self, bars):\n",
    "        # If a position was not opened, check if we should enter a long position.\n",
    "        if self.__position is None:\n",
    "            if cross.cross_above(self.__prices, self.__sma) > 0:\n",
    "                shares = int(self.getBroker().getCash() * 0.9 / bars[self.__instrument].getPrice())\n",
    "                # Enter a buy market order. The order is good till canceled.\n",
    "                self.__position = self.enterLong(self.__instrument, shares, True)\n",
    "        # Check if we have to exit the position.\n",
    "        elif not self.__position.exitActive() and cross.cross_below(self.__prices, self.__sma) > 0:\n",
    "            self.__position.exitMarket()"
   ]
  },
  {
   "cell_type": "code",
   "execution_count": 2,
   "outputs": [
    {
     "ename": "KeyboardInterrupt",
     "evalue": "",
     "output_type": "error",
     "traceback": [
      "\u001B[0;31m---------------------------------------------------------------------------\u001B[0m",
      "\u001B[0;31mKeyboardInterrupt\u001B[0m                         Traceback (most recent call last)",
      "\u001B[0;32m<ipython-input-2-565d8ea53e06>\u001B[0m in \u001B[0;36m<module>\u001B[0;34m\u001B[0m\n\u001B[1;32m      6\u001B[0m \u001B[0;31m# Load the bar feed from the CSV file\u001B[0m\u001B[0;34m\u001B[0m\u001B[0;34m\u001B[0m\u001B[0;34m\u001B[0m\u001B[0m\n\u001B[1;32m      7\u001B[0m \u001B[0mfeed\u001B[0m \u001B[0;34m=\u001B[0m \u001B[0mcsvfeed\u001B[0m\u001B[0;34m.\u001B[0m\u001B[0mGenericBarFeed\u001B[0m\u001B[0;34m(\u001B[0m\u001B[0mfrequency\u001B[0m\u001B[0;34m=\u001B[0m\u001B[0mFrequency\u001B[0m\u001B[0;34m.\u001B[0m\u001B[0mMINUTE\u001B[0m\u001B[0;34m)\u001B[0m\u001B[0;34m\u001B[0m\u001B[0;34m\u001B[0m\u001B[0m\n\u001B[0;32m----> 8\u001B[0;31m \u001B[0mfeed\u001B[0m\u001B[0;34m.\u001B[0m\u001B[0maddBarsFromCSV\u001B[0m\u001B[0;34m(\u001B[0m\u001B[0;34m\"USD_JPY\"\u001B[0m\u001B[0;34m,\u001B[0m \u001B[0;34m\"../data/candles/USD_JPY_S5_2020.csv\"\u001B[0m\u001B[0;34m)\u001B[0m\u001B[0;34m\u001B[0m\u001B[0;34m\u001B[0m\u001B[0m\n\u001B[0m\u001B[1;32m      9\u001B[0m \u001B[0;34m\u001B[0m\u001B[0m\n\u001B[1;32m     10\u001B[0m \u001B[0;31m# Evaluate the strategy with the feed's bars.\u001B[0m\u001B[0;34m\u001B[0m\u001B[0;34m\u001B[0m\u001B[0;34m\u001B[0m\u001B[0m\n",
      "\u001B[0;32m~/opt/anaconda3/envs/fx_analysis-02/lib/python3.8/site-packages/pyalgotrade/barfeed/csvfeed.py\u001B[0m in \u001B[0;36maddBarsFromCSV\u001B[0;34m(self, instrument, path, timezone, skipMalformedBars)\u001B[0m\n\u001B[1;32m    292\u001B[0m         )\n\u001B[1;32m    293\u001B[0m \u001B[0;34m\u001B[0m\u001B[0m\n\u001B[0;32m--> 294\u001B[0;31m         \u001B[0msuper\u001B[0m\u001B[0;34m(\u001B[0m\u001B[0mGenericBarFeed\u001B[0m\u001B[0;34m,\u001B[0m \u001B[0mself\u001B[0m\u001B[0;34m)\u001B[0m\u001B[0;34m.\u001B[0m\u001B[0maddBarsFromCSV\u001B[0m\u001B[0;34m(\u001B[0m\u001B[0minstrument\u001B[0m\u001B[0;34m,\u001B[0m \u001B[0mpath\u001B[0m\u001B[0;34m,\u001B[0m \u001B[0mrowParser\u001B[0m\u001B[0;34m,\u001B[0m \u001B[0mskipMalformedBars\u001B[0m\u001B[0;34m=\u001B[0m\u001B[0mskipMalformedBars\u001B[0m\u001B[0;34m)\u001B[0m\u001B[0;34m\u001B[0m\u001B[0;34m\u001B[0m\u001B[0m\n\u001B[0m\u001B[1;32m    295\u001B[0m \u001B[0;34m\u001B[0m\u001B[0m\n\u001B[1;32m    296\u001B[0m         \u001B[0;32mif\u001B[0m \u001B[0mrowParser\u001B[0m\u001B[0;34m.\u001B[0m\u001B[0mbarsHaveAdjClose\u001B[0m\u001B[0;34m(\u001B[0m\u001B[0;34m)\u001B[0m\u001B[0;34m:\u001B[0m\u001B[0;34m\u001B[0m\u001B[0;34m\u001B[0m\u001B[0m\n",
      "\u001B[0;32m~/opt/anaconda3/envs/fx_analysis-02/lib/python3.8/site-packages/pyalgotrade/barfeed/csvfeed.py\u001B[0m in \u001B[0;36maddBarsFromCSV\u001B[0;34m(self, instrument, path, rowParser, skipMalformedBars)\u001B[0m\n\u001B[1;32m    133\u001B[0m         \u001B[0mreader\u001B[0m \u001B[0;34m=\u001B[0m \u001B[0mcsvutils\u001B[0m\u001B[0;34m.\u001B[0m\u001B[0mFastDictReader\u001B[0m\u001B[0;34m(\u001B[0m\u001B[0mopen\u001B[0m\u001B[0;34m(\u001B[0m\u001B[0mpath\u001B[0m\u001B[0;34m,\u001B[0m \u001B[0;34m\"r\"\u001B[0m\u001B[0;34m)\u001B[0m\u001B[0;34m,\u001B[0m \u001B[0mfieldnames\u001B[0m\u001B[0;34m=\u001B[0m\u001B[0mrowParser\u001B[0m\u001B[0;34m.\u001B[0m\u001B[0mgetFieldNames\u001B[0m\u001B[0;34m(\u001B[0m\u001B[0;34m)\u001B[0m\u001B[0;34m,\u001B[0m \u001B[0mdelimiter\u001B[0m\u001B[0;34m=\u001B[0m\u001B[0mrowParser\u001B[0m\u001B[0;34m.\u001B[0m\u001B[0mgetDelimiter\u001B[0m\u001B[0;34m(\u001B[0m\u001B[0;34m)\u001B[0m\u001B[0;34m)\u001B[0m\u001B[0;34m\u001B[0m\u001B[0;34m\u001B[0m\u001B[0m\n\u001B[1;32m    134\u001B[0m         \u001B[0;32mfor\u001B[0m \u001B[0mrow\u001B[0m \u001B[0;32min\u001B[0m \u001B[0mreader\u001B[0m\u001B[0;34m:\u001B[0m\u001B[0;34m\u001B[0m\u001B[0;34m\u001B[0m\u001B[0m\n\u001B[0;32m--> 135\u001B[0;31m             \u001B[0mbar_\u001B[0m \u001B[0;34m=\u001B[0m \u001B[0mparse_bar\u001B[0m\u001B[0;34m(\u001B[0m\u001B[0mrow\u001B[0m\u001B[0;34m)\u001B[0m\u001B[0;34m\u001B[0m\u001B[0;34m\u001B[0m\u001B[0m\n\u001B[0m\u001B[1;32m    136\u001B[0m             \u001B[0;32mif\u001B[0m \u001B[0mbar_\u001B[0m \u001B[0;32mis\u001B[0m \u001B[0;32mnot\u001B[0m \u001B[0;32mNone\u001B[0m \u001B[0;32mand\u001B[0m \u001B[0;34m(\u001B[0m\u001B[0mself\u001B[0m\u001B[0;34m.\u001B[0m\u001B[0m__barFilter\u001B[0m \u001B[0;32mis\u001B[0m \u001B[0;32mNone\u001B[0m \u001B[0;32mor\u001B[0m \u001B[0mself\u001B[0m\u001B[0;34m.\u001B[0m\u001B[0m__barFilter\u001B[0m\u001B[0;34m.\u001B[0m\u001B[0mincludeBar\u001B[0m\u001B[0;34m(\u001B[0m\u001B[0mbar_\u001B[0m\u001B[0;34m)\u001B[0m\u001B[0;34m)\u001B[0m\u001B[0;34m:\u001B[0m\u001B[0;34m\u001B[0m\u001B[0;34m\u001B[0m\u001B[0m\n\u001B[1;32m    137\u001B[0m                 \u001B[0mloadedBars\u001B[0m\u001B[0;34m.\u001B[0m\u001B[0mappend\u001B[0m\u001B[0;34m(\u001B[0m\u001B[0mbar_\u001B[0m\u001B[0;34m)\u001B[0m\u001B[0;34m\u001B[0m\u001B[0;34m\u001B[0m\u001B[0m\n",
      "\u001B[0;32m~/opt/anaconda3/envs/fx_analysis-02/lib/python3.8/site-packages/pyalgotrade/barfeed/csvfeed.py\u001B[0m in \u001B[0;36mparseBar\u001B[0;34m(self, csvRowDict)\u001B[0m\n\u001B[1;32m    179\u001B[0m \u001B[0;34m\u001B[0m\u001B[0m\n\u001B[1;32m    180\u001B[0m     \u001B[0;32mdef\u001B[0m \u001B[0mparseBar\u001B[0m\u001B[0;34m(\u001B[0m\u001B[0mself\u001B[0m\u001B[0;34m,\u001B[0m \u001B[0mcsvRowDict\u001B[0m\u001B[0;34m)\u001B[0m\u001B[0;34m:\u001B[0m\u001B[0;34m\u001B[0m\u001B[0;34m\u001B[0m\u001B[0m\n\u001B[0;32m--> 181\u001B[0;31m         \u001B[0mdateTime\u001B[0m \u001B[0;34m=\u001B[0m \u001B[0mself\u001B[0m\u001B[0;34m.\u001B[0m\u001B[0m_parseDate\u001B[0m\u001B[0;34m(\u001B[0m\u001B[0mcsvRowDict\u001B[0m\u001B[0;34m[\u001B[0m\u001B[0mself\u001B[0m\u001B[0;34m.\u001B[0m\u001B[0m__dateTimeColName\u001B[0m\u001B[0;34m]\u001B[0m\u001B[0;34m)\u001B[0m\u001B[0;34m\u001B[0m\u001B[0;34m\u001B[0m\u001B[0m\n\u001B[0m\u001B[1;32m    182\u001B[0m         \u001B[0mopen_\u001B[0m \u001B[0;34m=\u001B[0m \u001B[0mfloat\u001B[0m\u001B[0;34m(\u001B[0m\u001B[0mcsvRowDict\u001B[0m\u001B[0;34m[\u001B[0m\u001B[0mself\u001B[0m\u001B[0;34m.\u001B[0m\u001B[0m__openColName\u001B[0m\u001B[0;34m]\u001B[0m\u001B[0;34m)\u001B[0m\u001B[0;34m\u001B[0m\u001B[0;34m\u001B[0m\u001B[0m\n\u001B[1;32m    183\u001B[0m         \u001B[0mhigh\u001B[0m \u001B[0;34m=\u001B[0m \u001B[0mfloat\u001B[0m\u001B[0;34m(\u001B[0m\u001B[0mcsvRowDict\u001B[0m\u001B[0;34m[\u001B[0m\u001B[0mself\u001B[0m\u001B[0;34m.\u001B[0m\u001B[0m__highColName\u001B[0m\u001B[0;34m]\u001B[0m\u001B[0;34m)\u001B[0m\u001B[0;34m\u001B[0m\u001B[0;34m\u001B[0m\u001B[0m\n",
      "\u001B[0;32m~/opt/anaconda3/envs/fx_analysis-02/lib/python3.8/site-packages/pyalgotrade/barfeed/csvfeed.py\u001B[0m in \u001B[0;36m_parseDate\u001B[0;34m(self, dateString)\u001B[0m\n\u001B[1;32m    159\u001B[0m \u001B[0;34m\u001B[0m\u001B[0m\n\u001B[1;32m    160\u001B[0m     \u001B[0;32mdef\u001B[0m \u001B[0m_parseDate\u001B[0m\u001B[0;34m(\u001B[0m\u001B[0mself\u001B[0m\u001B[0;34m,\u001B[0m \u001B[0mdateString\u001B[0m\u001B[0;34m)\u001B[0m\u001B[0;34m:\u001B[0m\u001B[0;34m\u001B[0m\u001B[0;34m\u001B[0m\u001B[0m\n\u001B[0;32m--> 161\u001B[0;31m         \u001B[0mret\u001B[0m \u001B[0;34m=\u001B[0m \u001B[0mdatetime\u001B[0m\u001B[0;34m.\u001B[0m\u001B[0mdatetime\u001B[0m\u001B[0;34m.\u001B[0m\u001B[0mstrptime\u001B[0m\u001B[0;34m(\u001B[0m\u001B[0mdateString\u001B[0m\u001B[0;34m,\u001B[0m \u001B[0mself\u001B[0m\u001B[0;34m.\u001B[0m\u001B[0m__dateTimeFormat\u001B[0m\u001B[0;34m)\u001B[0m\u001B[0;34m\u001B[0m\u001B[0;34m\u001B[0m\u001B[0m\n\u001B[0m\u001B[1;32m    162\u001B[0m \u001B[0;34m\u001B[0m\u001B[0m\n\u001B[1;32m    163\u001B[0m         \u001B[0;32mif\u001B[0m \u001B[0mself\u001B[0m\u001B[0;34m.\u001B[0m\u001B[0m__dailyBarTime\u001B[0m \u001B[0;32mis\u001B[0m \u001B[0;32mnot\u001B[0m \u001B[0;32mNone\u001B[0m\u001B[0;34m:\u001B[0m\u001B[0;34m\u001B[0m\u001B[0;34m\u001B[0m\u001B[0m\n",
      "\u001B[0;32m~/opt/anaconda3/envs/fx_analysis-02/lib/python3.8/_strptime.py\u001B[0m in \u001B[0;36m_strptime_datetime\u001B[0;34m(cls, data_string, format)\u001B[0m\n\u001B[1;32m    566\u001B[0m     \"\"\"Return a class cls instance based on the input string and the\n\u001B[1;32m    567\u001B[0m     format string.\"\"\"\n\u001B[0;32m--> 568\u001B[0;31m     \u001B[0mtt\u001B[0m\u001B[0;34m,\u001B[0m \u001B[0mfraction\u001B[0m\u001B[0;34m,\u001B[0m \u001B[0mgmtoff_fraction\u001B[0m \u001B[0;34m=\u001B[0m \u001B[0m_strptime\u001B[0m\u001B[0;34m(\u001B[0m\u001B[0mdata_string\u001B[0m\u001B[0;34m,\u001B[0m \u001B[0mformat\u001B[0m\u001B[0;34m)\u001B[0m\u001B[0;34m\u001B[0m\u001B[0;34m\u001B[0m\u001B[0m\n\u001B[0m\u001B[1;32m    569\u001B[0m     \u001B[0mtzname\u001B[0m\u001B[0;34m,\u001B[0m \u001B[0mgmtoff\u001B[0m \u001B[0;34m=\u001B[0m \u001B[0mtt\u001B[0m\u001B[0;34m[\u001B[0m\u001B[0;34m-\u001B[0m\u001B[0;36m2\u001B[0m\u001B[0;34m:\u001B[0m\u001B[0;34m]\u001B[0m\u001B[0;34m\u001B[0m\u001B[0;34m\u001B[0m\u001B[0m\n\u001B[1;32m    570\u001B[0m     \u001B[0margs\u001B[0m \u001B[0;34m=\u001B[0m \u001B[0mtt\u001B[0m\u001B[0;34m[\u001B[0m\u001B[0;34m:\u001B[0m\u001B[0;36m6\u001B[0m\u001B[0;34m]\u001B[0m \u001B[0;34m+\u001B[0m \u001B[0;34m(\u001B[0m\u001B[0mfraction\u001B[0m\u001B[0;34m,\u001B[0m\u001B[0;34m)\u001B[0m\u001B[0;34m\u001B[0m\u001B[0;34m\u001B[0m\u001B[0m\n",
      "\u001B[0;32m~/opt/anaconda3/envs/fx_analysis-02/lib/python3.8/_strptime.py\u001B[0m in \u001B[0;36m_strptime\u001B[0;34m(data_string, format)\u001B[0m\n\u001B[1;32m    366\u001B[0m     \u001B[0;31m# values\u001B[0m\u001B[0;34m\u001B[0m\u001B[0;34m\u001B[0m\u001B[0;34m\u001B[0m\u001B[0m\n\u001B[1;32m    367\u001B[0m     \u001B[0mweekday\u001B[0m \u001B[0;34m=\u001B[0m \u001B[0mjulian\u001B[0m \u001B[0;34m=\u001B[0m \u001B[0;32mNone\u001B[0m\u001B[0;34m\u001B[0m\u001B[0;34m\u001B[0m\u001B[0m\n\u001B[0;32m--> 368\u001B[0;31m     \u001B[0mfound_dict\u001B[0m \u001B[0;34m=\u001B[0m \u001B[0mfound\u001B[0m\u001B[0;34m.\u001B[0m\u001B[0mgroupdict\u001B[0m\u001B[0;34m(\u001B[0m\u001B[0;34m)\u001B[0m\u001B[0;34m\u001B[0m\u001B[0;34m\u001B[0m\u001B[0m\n\u001B[0m\u001B[1;32m    369\u001B[0m     \u001B[0;32mfor\u001B[0m \u001B[0mgroup_key\u001B[0m \u001B[0;32min\u001B[0m \u001B[0mfound_dict\u001B[0m\u001B[0;34m.\u001B[0m\u001B[0mkeys\u001B[0m\u001B[0;34m(\u001B[0m\u001B[0;34m)\u001B[0m\u001B[0;34m:\u001B[0m\u001B[0;34m\u001B[0m\u001B[0;34m\u001B[0m\u001B[0m\n\u001B[1;32m    370\u001B[0m         \u001B[0;31m# Directives not explicitly handled below:\u001B[0m\u001B[0;34m\u001B[0m\u001B[0;34m\u001B[0m\u001B[0;34m\u001B[0m\u001B[0m\n",
      "\u001B[0;31mKeyboardInterrupt\u001B[0m: "
     ]
    }
   ],
   "source": [
    "from pyalgotrade import plotter\n",
    "from pyalgotrade.barfeed import csvfeed\n",
    "from pyalgotrade.stratanalyzer import returns\n",
    "from pyalgotrade.bar import Frequency\n",
    "\n",
    "# Load the bar feed from the CSV file\n",
    "feed = csvfeed.GenericBarFeed(frequency=Frequency.MINUTE)\n",
    "feed.addBarsFromCSV(\"USD_JPY\", \"../data/candles/USD_JPY_S5_2020.csv\")\n",
    "\n",
    "# Evaluate the strategy with the feed's bars.\n",
    "myStrategy = SMACrossOver(feed, \"USD_JPY\", 20)\n",
    "\n",
    "# Attach a returns analyzers to the strategy.\n",
    "returnsAnalyzer = returns.Returns()\n",
    "myStrategy.attachAnalyzer(returnsAnalyzer)\n",
    "\n",
    "# Attach the plotter to the strategy.\n",
    "plt = plotter.StrategyPlotter(myStrategy)\n",
    "# Include the SMA in the instrument's subplot to get it displayed along with the closing prices.\n",
    "plt.getInstrumentSubplot(\"USD_JPY\").addDataSeries(\"SMA\", myStrategy.getSMA())\n",
    "# Plot the simple returns on each bar.\n",
    "plt.getOrCreateSubplot(\"returns\").addDataSeries(\"Simple returns\", returnsAnalyzer.getReturns())\n",
    "\n",
    "start = time.time()\n",
    "# Run the strategy.\n",
    "myStrategy.run()\n",
    "myStrategy.info(\"Final portfolio value: $%.2f\" % myStrategy.getResult())\n",
    "elapsed_time = time.time() - start\n",
    "\n",
    "print(elapsed_time)\n",
    "\n",
    "# Plot the strategy.\n",
    "plt.plot()"
   ],
   "metadata": {
    "collapsed": false,
    "pycharm": {
     "name": "#%%\n"
    }
   }
  }
 ],
 "metadata": {
  "kernelspec": {
   "display_name": "Python 3",
   "language": "python",
   "name": "python3"
  },
  "language_info": {
   "codemirror_mode": {
    "name": "ipython",
    "version": 2
   },
   "file_extension": ".py",
   "mimetype": "text/x-python",
   "name": "python",
   "nbconvert_exporter": "python",
   "pygments_lexer": "ipython2",
   "version": "2.7.6"
  }
 },
 "nbformat": 4,
 "nbformat_minor": 0
}