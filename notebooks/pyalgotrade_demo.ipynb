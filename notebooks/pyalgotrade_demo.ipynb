{
 "cells": [
  {
   "cell_type": "code",
   "execution_count": 15,
   "metadata": {
    "collapsed": true
   },
   "outputs": [],
   "source": [
    "from pyalgotrade import strategy\n",
    "from pyalgotrade.technical import ma\n",
    "from pyalgotrade.technical import cross\n",
    "\n",
    "\n",
    "class SMACrossOver(strategy.BacktestingStrategy):\n",
    "    def __init__(self, feed, instrument, smaPeriod):\n",
    "        super(SMACrossOver, self).__init__(feed)\n",
    "        self.__instrument = instrument\n",
    "        self.__position = None\n",
    "        # We'll use adjusted close values instead of regular close values.\n",
    "        self.setUseAdjustedValues(True)\n",
    "        self.__prices = feed[instrument].getPriceDataSeries()\n",
    "        self.__sma = ma.SMA(self.__prices, smaPeriod)\n",
    "\n",
    "    def getSMA(self):\n",
    "        return self.__sma\n",
    "\n",
    "    def onEnterCanceled(self, position):\n",
    "        self.__position = None\n",
    "\n",
    "    def onExitOk(self, position):\n",
    "        self.__position = None\n",
    "\n",
    "    def onExitCanceled(self, position):\n",
    "        # If the exit was canceled, re-submit it.\n",
    "        self.__position.exitMarket()\n",
    "\n",
    "    def onBars(self, bars):\n",
    "        # If a position was not opened, check if we should enter a long position.\n",
    "        if self.__position is None:\n",
    "            if cross.cross_above(self.__prices, self.__sma) > 0:\n",
    "                shares = int(self.getBroker().getCash() * 0.9 / bars[self.__instrument].getPrice())\n",
    "                # Enter a buy market order. The order is good till canceled.\n",
    "                self.__position = self.enterLong(self.__instrument, shares, True)\n",
    "        # Check if we have to exit the position.\n",
    "        elif not self.__position.exitActive() and cross.cross_below(self.__prices, self.__sma) > 0:\n",
    "            self.__position.exitMarket()"
   ]
  },
  {
   "cell_type": "code",
   "execution_count": 16,
   "outputs": [
    {
     "ename": "Exception",
     "evalue": "The barfeed doesn't support adjusted close values",
     "output_type": "error",
     "traceback": [
      "\u001B[0;31m---------------------------------------------------------------------------\u001B[0m",
      "\u001B[0;31mException\u001B[0m                                 Traceback (most recent call last)",
      "\u001B[0;32m<ipython-input-16-9a19977111cc>\u001B[0m in \u001B[0;36m<module>\u001B[0;34m\u001B[0m\n\u001B[1;32m      9\u001B[0m \u001B[0;34m\u001B[0m\u001B[0m\n\u001B[1;32m     10\u001B[0m \u001B[0;31m# Evaluate the strategy with the feed's bars.\u001B[0m\u001B[0;34m\u001B[0m\u001B[0;34m\u001B[0m\u001B[0;34m\u001B[0m\u001B[0m\n\u001B[0;32m---> 11\u001B[0;31m \u001B[0mmyStrategy\u001B[0m \u001B[0;34m=\u001B[0m \u001B[0mSMACrossOver\u001B[0m\u001B[0;34m(\u001B[0m\u001B[0mfeed\u001B[0m\u001B[0;34m,\u001B[0m \u001B[0;34m\"USD_JPY\"\u001B[0m\u001B[0;34m,\u001B[0m \u001B[0;36m20\u001B[0m\u001B[0;34m)\u001B[0m\u001B[0;34m\u001B[0m\u001B[0;34m\u001B[0m\u001B[0m\n\u001B[0m\u001B[1;32m     12\u001B[0m \u001B[0;34m\u001B[0m\u001B[0m\n\u001B[1;32m     13\u001B[0m \u001B[0;31m# Attach a returns analyzers to the strategy.\u001B[0m\u001B[0;34m\u001B[0m\u001B[0;34m\u001B[0m\u001B[0;34m\u001B[0m\u001B[0m\n",
      "\u001B[0;32m<ipython-input-15-ba1848c406c1>\u001B[0m in \u001B[0;36m__init__\u001B[0;34m(self, feed, instrument, smaPeriod)\u001B[0m\n\u001B[1;32m     10\u001B[0m         \u001B[0mself\u001B[0m\u001B[0;34m.\u001B[0m\u001B[0m__position\u001B[0m \u001B[0;34m=\u001B[0m \u001B[0;32mNone\u001B[0m\u001B[0;34m\u001B[0m\u001B[0;34m\u001B[0m\u001B[0m\n\u001B[1;32m     11\u001B[0m         \u001B[0;31m# We'll use adjusted close values instead of regular close values.\u001B[0m\u001B[0;34m\u001B[0m\u001B[0;34m\u001B[0m\u001B[0;34m\u001B[0m\u001B[0m\n\u001B[0;32m---> 12\u001B[0;31m         \u001B[0mself\u001B[0m\u001B[0;34m.\u001B[0m\u001B[0msetUseAdjustedValues\u001B[0m\u001B[0;34m(\u001B[0m\u001B[0;32mTrue\u001B[0m\u001B[0;34m)\u001B[0m\u001B[0;34m\u001B[0m\u001B[0;34m\u001B[0m\u001B[0m\n\u001B[0m\u001B[1;32m     13\u001B[0m         \u001B[0mself\u001B[0m\u001B[0;34m.\u001B[0m\u001B[0m__prices\u001B[0m \u001B[0;34m=\u001B[0m \u001B[0mfeed\u001B[0m\u001B[0;34m[\u001B[0m\u001B[0minstrument\u001B[0m\u001B[0;34m]\u001B[0m\u001B[0;34m.\u001B[0m\u001B[0mgetPriceDataSeries\u001B[0m\u001B[0;34m(\u001B[0m\u001B[0;34m)\u001B[0m\u001B[0;34m\u001B[0m\u001B[0;34m\u001B[0m\u001B[0m\n\u001B[1;32m     14\u001B[0m         \u001B[0mself\u001B[0m\u001B[0;34m.\u001B[0m\u001B[0m__sma\u001B[0m \u001B[0;34m=\u001B[0m \u001B[0mma\u001B[0m\u001B[0;34m.\u001B[0m\u001B[0mSMA\u001B[0m\u001B[0;34m(\u001B[0m\u001B[0mself\u001B[0m\u001B[0;34m.\u001B[0m\u001B[0m__prices\u001B[0m\u001B[0;34m,\u001B[0m \u001B[0msmaPeriod\u001B[0m\u001B[0;34m)\u001B[0m\u001B[0;34m\u001B[0m\u001B[0;34m\u001B[0m\u001B[0m\n",
      "\u001B[0;32m~/.conda/envs/fx_analysis/lib/python3.8/site-packages/pyalgotrade/strategy/__init__.py\u001B[0m in \u001B[0;36msetUseAdjustedValues\u001B[0;34m(self, useAdjusted)\u001B[0m\n\u001B[1;32m    595\u001B[0m \u001B[0;34m\u001B[0m\u001B[0m\n\u001B[1;32m    596\u001B[0m     \u001B[0;32mdef\u001B[0m \u001B[0msetUseAdjustedValues\u001B[0m\u001B[0;34m(\u001B[0m\u001B[0mself\u001B[0m\u001B[0;34m,\u001B[0m \u001B[0museAdjusted\u001B[0m\u001B[0;34m)\u001B[0m\u001B[0;34m:\u001B[0m\u001B[0;34m\u001B[0m\u001B[0;34m\u001B[0m\u001B[0m\n\u001B[0;32m--> 597\u001B[0;31m         \u001B[0mself\u001B[0m\u001B[0;34m.\u001B[0m\u001B[0mgetFeed\u001B[0m\u001B[0;34m(\u001B[0m\u001B[0;34m)\u001B[0m\u001B[0;34m.\u001B[0m\u001B[0msetUseAdjustedValues\u001B[0m\u001B[0;34m(\u001B[0m\u001B[0museAdjusted\u001B[0m\u001B[0;34m)\u001B[0m\u001B[0;34m\u001B[0m\u001B[0;34m\u001B[0m\u001B[0m\n\u001B[0m\u001B[1;32m    598\u001B[0m         \u001B[0mself\u001B[0m\u001B[0;34m.\u001B[0m\u001B[0mgetBroker\u001B[0m\u001B[0;34m(\u001B[0m\u001B[0;34m)\u001B[0m\u001B[0;34m.\u001B[0m\u001B[0msetUseAdjustedValues\u001B[0m\u001B[0;34m(\u001B[0m\u001B[0museAdjusted\u001B[0m\u001B[0;34m)\u001B[0m\u001B[0;34m\u001B[0m\u001B[0;34m\u001B[0m\u001B[0m\n\u001B[1;32m    599\u001B[0m         \u001B[0mself\u001B[0m\u001B[0;34m.\u001B[0m\u001B[0m__useAdjustedValues\u001B[0m \u001B[0;34m=\u001B[0m \u001B[0museAdjusted\u001B[0m\u001B[0;34m\u001B[0m\u001B[0;34m\u001B[0m\u001B[0m\n",
      "\u001B[0;32m~/.conda/envs/fx_analysis/lib/python3.8/site-packages/pyalgotrade/barfeed/__init__.py\u001B[0m in \u001B[0;36msetUseAdjustedValues\u001B[0;34m(self, useAdjusted)\u001B[0m\n\u001B[1;32m     59\u001B[0m     \u001B[0;32mdef\u001B[0m \u001B[0msetUseAdjustedValues\u001B[0m\u001B[0;34m(\u001B[0m\u001B[0mself\u001B[0m\u001B[0;34m,\u001B[0m \u001B[0museAdjusted\u001B[0m\u001B[0;34m)\u001B[0m\u001B[0;34m:\u001B[0m\u001B[0;34m\u001B[0m\u001B[0;34m\u001B[0m\u001B[0m\n\u001B[1;32m     60\u001B[0m         \u001B[0;32mif\u001B[0m \u001B[0museAdjusted\u001B[0m \u001B[0;32mand\u001B[0m \u001B[0;32mnot\u001B[0m \u001B[0mself\u001B[0m\u001B[0;34m.\u001B[0m\u001B[0mbarsHaveAdjClose\u001B[0m\u001B[0;34m(\u001B[0m\u001B[0;34m)\u001B[0m\u001B[0;34m:\u001B[0m\u001B[0;34m\u001B[0m\u001B[0;34m\u001B[0m\u001B[0m\n\u001B[0;32m---> 61\u001B[0;31m             \u001B[0;32mraise\u001B[0m \u001B[0mException\u001B[0m\u001B[0;34m(\u001B[0m\u001B[0;34m\"The barfeed doesn't support adjusted close values\"\u001B[0m\u001B[0;34m)\u001B[0m\u001B[0;34m\u001B[0m\u001B[0;34m\u001B[0m\u001B[0m\n\u001B[0m\u001B[1;32m     62\u001B[0m         \u001B[0;31m# This is to affect future dataseries when they get created.\u001B[0m\u001B[0;34m\u001B[0m\u001B[0;34m\u001B[0m\u001B[0;34m\u001B[0m\u001B[0m\n\u001B[1;32m     63\u001B[0m         \u001B[0mself\u001B[0m\u001B[0;34m.\u001B[0m\u001B[0m__useAdjustedValues\u001B[0m \u001B[0;34m=\u001B[0m \u001B[0museAdjusted\u001B[0m\u001B[0;34m\u001B[0m\u001B[0;34m\u001B[0m\u001B[0m\n",
      "\u001B[0;31mException\u001B[0m: The barfeed doesn't support adjusted close values"
     ]
    }
   ],
   "source": [
    "from pyalgotrade import plotter\n",
    "from pyalgotrade.barfeed import csvfeed\n",
    "from pyalgotrade.stratanalyzer import returns\n",
    "from pyalgotrade.bar import Frequency\n",
    "\n",
    "# Load the bar feed from the CSV file\n",
    "feed = csvfeed.GenericBarFeed(frequency=Frequency.MINUTE)\n",
    "feed.addBarsFromCSV(\"USD_JPY\", \"../data/candles/USD_JPY_M5.csv\")\n",
    "\n",
    "# Evaluate the strategy with the feed's bars.\n",
    "myStrategy = SMACrossOver(feed, \"USD_JPY\", 20)\n",
    "\n",
    "# Attach a returns analyzers to the strategy.\n",
    "returnsAnalyzer = returns.Returns()\n",
    "myStrategy.attachAnalyzer(returnsAnalyzer)\n",
    "\n",
    "# Attach the plotter to the strategy.\n",
    "plt = plotter.StrategyPlotter(myStrategy)\n",
    "# Include the SMA in the instrument's subplot to get it displayed along with the closing prices.\n",
    "plt.getInstrumentSubplot(\"USD_JPY\").addDataSeries(\"SMA\", myStrategy.getSMA())\n",
    "# Plot the simple returns on each bar.\n",
    "plt.getOrCreateSubplot(\"returns\").addDataSeries(\"Simple returns\", returnsAnalyzer.getReturns())\n",
    "\n",
    "# Run the strategy.\n",
    "myStrategy.run()\n",
    "myStrategy.info(\"Final portfolio value: $%.2f\" % myStrategy.getResult())\n",
    "\n",
    "# Plot the strategy.\n",
    "plt.plot()"
   ],
   "metadata": {
    "collapsed": false,
    "pycharm": {
     "name": "#%%\n"
    }
   }
  }
 ],
 "metadata": {
  "kernelspec": {
   "display_name": "Python 3",
   "language": "python",
   "name": "python3"
  },
  "language_info": {
   "codemirror_mode": {
    "name": "ipython",
    "version": 2
   },
   "file_extension": ".py",
   "mimetype": "text/x-python",
   "name": "python",
   "nbconvert_exporter": "python",
   "pygments_lexer": "ipython2",
   "version": "2.7.6"
  }
 },
 "nbformat": 4,
 "nbformat_minor": 0
}