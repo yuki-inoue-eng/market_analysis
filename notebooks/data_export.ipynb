{
 "cells": [
  {
   "cell_type": "code",
   "execution_count": null,
   "metadata": {
    "collapsed": true,
    "pycharm": {
     "name": "#%%\n",
     "is_executing": true
    }
   },
   "outputs": [],
   "source": [
    "import configparser\n",
    "import datetime\n",
    "import pandas as pd\n",
    "from oanda import Client\n",
    "config = configparser.ConfigParser()\n",
    "config.read(\"../oanda_config.txt\")\n",
    "api_key = config[\"Practice\"][\"api_key\"]\n",
    "oanda = Client(api_key, \"\", \"practice\")"
   ]
  },
  {
   "cell_type": "code",
   "execution_count": null,
   "outputs": [],
   "source": [
    "UTC = datetime.timezone.utc\n",
    "date_from = datetime.datetime(2020, 10, 29, 0, 0, tzinfo=UTC)\n",
    "date_to = datetime.datetime(2020, 10, 30, 23, 55, tzinfo=UTC)\n",
    "candles_df = oanda.get_candles(\"USD_JPY\", date_from, date_to, \"M5\")\n",
    "print(candles_df)\n",
    "candles_df.columns = [\"Date Time\", \"Open\", \"High\", \"Low\", \"Close\", \"Volume\"]\n",
    "candles_df.to_csv(\"../data/candles/USD_JPY_M5.csv\", index=False)"
   ],
   "metadata": {
    "collapsed": false,
    "pycharm": {
     "name": "#%%\n",
     "is_executing": true
    }
   }
  },
  {
   "cell_type": "code",
   "execution_count": null,
   "outputs": [],
   "source": [
    "UTC = datetime.timezone.utc\n",
    "date_from = datetime.datetime(2020, 8, 1, 0, 0, tzinfo=UTC)\n",
    "date_to = datetime.datetime(2020, 10, 30, 23, 55, tzinfo=UTC)\n",
    "order_books = oanda.get_order_books(\"USD_JPY\", date_from, date_to)\n",
    "print(order_books)"
   ],
   "metadata": {
    "collapsed": false,
    "pycharm": {
     "name": "#%%\n",
     "is_executing": true
    }
   }
  }
 ],
 "metadata": {
  "kernelspec": {
   "display_name": "Python 3",
   "language": "python",
   "name": "python3"
  },
  "language_info": {
   "codemirror_mode": {
    "name": "ipython",
    "version": 2
   },
   "file_extension": ".py",
   "mimetype": "text/x-python",
   "name": "python",
   "nbconvert_exporter": "python",
   "pygments_lexer": "ipython2",
   "version": "2.7.6"
  }
 },
 "nbformat": 4,
 "nbformat_minor": 0
}