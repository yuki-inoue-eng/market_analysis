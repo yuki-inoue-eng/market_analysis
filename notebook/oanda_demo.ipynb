{
 "cells": [
  {
   "cell_type": "markdown",
   "metadata": {
    "pycharm": {
     "name": "#%% md\n"
    }
   },
   "source": [
    "## package install\n",
    "\n",
    "```\n",
    "$ pip install oandapyV20\n",
    "$ pip install backtesting==0.1.7\n",
    "$ pip install TA-Lib\n",
    "$ brew install ta-lib\n",
    "$ conda install pandas\n",
    "$ conda install configparser\n",
    "$ conda install requests\n",
    "```"
   ]
  },
  {
   "cell_type": "code",
   "execution_count": 16,
   "metadata": {
    "pycharm": {
     "name": "#%%\n"
    }
   },
   "outputs": [],
   "source": [
    "import configparser\n",
    "import datetime\n",
    "import pandas as pd\n",
    "from oandapyV20 import API\n",
    "\n",
    "config = configparser.ConfigParser()\n",
    "config.read(\"../oanda_config.txt\")\n",
    "api_key = config[\"Practice\"][\"api_key\"]\n",
    "oanda_api = API(api_key, \"practice\")"
   ]
  },
  {
   "cell_type": "code",
   "execution_count": 6,
   "metadata": {
    "pycharm": {
     "name": "#%%\n"
    }
   },
   "outputs": [],
   "source": [
    "import oandapyV20.endpoints.instruments as instruments\n",
    "def get_candles(instrument, date_from, date_to, granularity):\n",
    "    params = {\n",
    "        \"from\": date_from.isoformat(),\n",
    "        \"to\": date_to.isoformat(),\n",
    "        \"granularity\": granularity,\n",
    "    }\n",
    "    r = instruments.InstrumentsCandles(instrument, params)\n",
    "    resp = oanda_api.request(r)\n",
    "    data = []\n",
    "    for candle in resp[\"candles\"]:\n",
    "        data.append([\n",
    "            datetime.datetime.fromisoformat(candle[\"time\"][:19]),\n",
    "            candle[\"mid\"][\"o\"],\n",
    "            candle[\"mid\"][\"h\"],\n",
    "            candle[\"mid\"][\"l\"],\n",
    "            candle[\"mid\"][\"c\"],\n",
    "            candle[\"volume\"],\n",
    "        ])\n",
    "    return data"
   ]
  },
  {
   "cell_type": "code",
   "execution_count": null,
   "metadata": {
    "pycharm": {
     "name": "#%%\n"
    }
   },
   "outputs": [],
   "source": [
    "UTC = datetime.timezone.utc\n",
    "date_from = datetime.datetime(2020, 11, 3, 0, 0, tzinfo=UTC)\n",
    "date_to = datetime.datetime(2020, 11, 9, 23, 55, tzinfo=UTC)\n",
    "candles = get_candles(\"USD_JPY\", date_from, date_to, \"M5\")\n",
    "\n",
    "# DataFrame 型へ変換\n",
    "df = pd.DataFrame(candles)\n",
    "df.columns = [\"Time\", \"Open\", \"High\", \"Low\", \"Close\", \"Volume\"]\n",
    "# カラムの型を float へ変換\n",
    "df[\"Open\"] = df[\"Open\"].astype(float)\n",
    "df[\"High\"] = df[\"High\"].astype(float)\n",
    "df[\"Low\"] = df[\"Low\"].astype(float)\n",
    "df[\"Close\"] = df[\"Close\"].astype(float)\n",
    "\n",
    "print(df)\n",
    "df.dtypes"
   ]
  },
  {
   "cell_type": "code",
   "execution_count": null,
   "metadata": {
    "pycharm": {
     "name": "#%%\n"
    }
   },
   "outputs": [],
   "source": [
    "from backtesting import Strategy\n",
    "from backtesting.lib import crossover\n",
    "import talib\n",
    "\n",
    "def EMA_Backtesting(values, n):\n",
    "    \"\"\"\n",
    "    Return exponential moving average of `values`, at\n",
    "    each step taking into account `n` previous values.\n",
    "    \"\"\"\n",
    "    close = pd.Series(values)\n",
    "    return talib.EMA(close, timeperiod=n)\n",
    "\n",
    "class EmaCrossStrategy(Strategy):\n",
    "\n",
    "    # Define the two EMA lags as *class variables*\n",
    "    # for later optimization\n",
    "    n1 = 5\n",
    "    n2 = 10\n",
    "\n",
    "    def init(self):\n",
    "        # Precompute two moving averages\n",
    "        self.ema1 = self.I(EMA_Backtesting, self.data.Close, self.n1)\n",
    "        self.ema2 = self.I(EMA_Backtesting, self.data.Close, self.n2)\n",
    "\n",
    "    def next(self):\n",
    "        # If ema1 crosses above ema2, buy the asset\n",
    "        if crossover(self.ema1, self.ema2):\n",
    "            self.position.close()\n",
    "            self.buy()\n",
    "\n",
    "        # Else, if ema1 crosses below ema2, sell it\n",
    "        elif crossover(self.ema2, self.ema1):\n",
    "            self.position.close()\n",
    "            self.sell()"
   ]
  },
  {
   "cell_type": "code",
   "execution_count": null,
   "metadata": {
    "pycharm": {
     "name": "#%%\n"
    }
   },
   "outputs": [],
   "source": [
    "from backtesting import Backtest\n",
    "\n",
    "df_ = df.copy()\n",
    "bt_ema = Backtest(df_, EmaCrossStrategy, cash=1, commission=0, trade_on_close=True)\n",
    "bt_ema.run()\n",
    "bt_ema.plot()\n"
   ]
  },
  {
   "cell_type": "code",
   "execution_count": null,
   "metadata": {},
   "outputs": [],
   "source": []
  }
 ],
 "metadata": {
  "kernelspec": {
   "display_name": "Python 3",
   "language": "python",
   "name": "python3"
  },
  "language_info": {
   "codemirror_mode": {
    "name": "ipython",
    "version": 3
   },
   "file_extension": ".py",
   "mimetype": "text/x-python",
   "name": "python",
   "nbconvert_exporter": "python",
   "pygments_lexer": "ipython3",
   "version": "3.8.5"
  }
 },
 "nbformat": 4,
 "nbformat_minor": 1
}