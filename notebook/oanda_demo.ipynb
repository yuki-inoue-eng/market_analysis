{
 "cells": [
  {
   "cell_type": "markdown",
   "metadata": {
    "pycharm": {
     "name": "#%% md\n"
    }
   },
   "source": [
    "## package install\n",
    "\n",
    "```\n",
    "$ pip install oandapyV20\n",
    "$ pip install backtesting==0.1.7\n",
    "$ pip install TA-Lib\n",
    "$ brew install ta-lib\n",
    "$ conda install pandas\n",
    "$ conda install configparser\n",
    "$ conda install requests\n",
    "```"
   ]
  },
  {
   "cell_type": "code",
   "execution_count": 1,
   "metadata": {
    "pycharm": {
     "name": "#%%\n"
    }
   },
   "outputs": [],
   "source": [
    "import configparser\n",
    "import datetime\n",
    "import pandas as pd\n",
    "from oanda import Client\n",
    "config = configparser.ConfigParser()\n",
    "config.read(\"../oanda_config.txt\")\n",
    "api_key = config[\"Practice\"][\"api_key\"]\n",
    "oanda = Client(api_key, \"\", \"practice\")"
   ]
  },
  {
   "cell_type": "code",
   "execution_count": 3,
   "metadata": {
    "pycharm": {
     "name": "#%%\n"
    }
   },
   "outputs": [
    {
     "ename": "V20Error",
     "evalue": "{\"errorMessage\":\"Maximum value for 'count' exceeded\"}",
     "output_type": "error",
     "traceback": [
      "\u001B[0;31m---------------------------------------------------------------------------\u001B[0m",
      "\u001B[0;31mV20Error\u001B[0m                                  Traceback (most recent call last)",
      "\u001B[0;32m<ipython-input-3-d156de6e1bcc>\u001B[0m in \u001B[0;36m<module>\u001B[0;34m\u001B[0m\n\u001B[1;32m      2\u001B[0m \u001B[0mdate_from\u001B[0m \u001B[0;34m=\u001B[0m \u001B[0mdatetime\u001B[0m\u001B[0;34m.\u001B[0m\u001B[0mdatetime\u001B[0m\u001B[0;34m(\u001B[0m\u001B[0;36m2020\u001B[0m\u001B[0;34m,\u001B[0m \u001B[0;36m11\u001B[0m\u001B[0;34m,\u001B[0m \u001B[0;36m3\u001B[0m\u001B[0;34m,\u001B[0m \u001B[0;36m0\u001B[0m\u001B[0;34m,\u001B[0m \u001B[0;36m0\u001B[0m\u001B[0;34m,\u001B[0m \u001B[0mtzinfo\u001B[0m\u001B[0;34m=\u001B[0m\u001B[0mUTC\u001B[0m\u001B[0;34m)\u001B[0m\u001B[0;34m\u001B[0m\u001B[0;34m\u001B[0m\u001B[0m\n\u001B[1;32m      3\u001B[0m \u001B[0mdate_to\u001B[0m \u001B[0;34m=\u001B[0m \u001B[0mdatetime\u001B[0m\u001B[0;34m.\u001B[0m\u001B[0mdatetime\u001B[0m\u001B[0;34m(\u001B[0m\u001B[0;36m2020\u001B[0m\u001B[0;34m,\u001B[0m \u001B[0;36m11\u001B[0m\u001B[0;34m,\u001B[0m \u001B[0;36m9\u001B[0m\u001B[0;34m,\u001B[0m \u001B[0;36m23\u001B[0m\u001B[0;34m,\u001B[0m \u001B[0;36m55\u001B[0m\u001B[0;34m,\u001B[0m \u001B[0mtzinfo\u001B[0m\u001B[0;34m=\u001B[0m\u001B[0mUTC\u001B[0m\u001B[0;34m)\u001B[0m\u001B[0;34m\u001B[0m\u001B[0;34m\u001B[0m\u001B[0m\n\u001B[0;32m----> 4\u001B[0;31m \u001B[0mcandles\u001B[0m \u001B[0;34m=\u001B[0m \u001B[0mget_candles\u001B[0m\u001B[0;34m(\u001B[0m\u001B[0;34m\"USD_JPY\"\u001B[0m\u001B[0;34m,\u001B[0m \u001B[0mdate_from\u001B[0m\u001B[0;34m,\u001B[0m \u001B[0mdate_to\u001B[0m\u001B[0;34m,\u001B[0m \u001B[0;34m\"S5\"\u001B[0m\u001B[0;34m)\u001B[0m\u001B[0;34m\u001B[0m\u001B[0;34m\u001B[0m\u001B[0m\n\u001B[0m\u001B[1;32m      5\u001B[0m \u001B[0;34m\u001B[0m\u001B[0m\n\u001B[1;32m      6\u001B[0m \u001B[0;31m# DataFrame 型へ変換\u001B[0m\u001B[0;34m\u001B[0m\u001B[0;34m\u001B[0m\u001B[0;34m\u001B[0m\u001B[0m\n",
      "\u001B[0;32m<ipython-input-2-ac933d0ca38d>\u001B[0m in \u001B[0;36mget_candles\u001B[0;34m(instrument, date_from, date_to, granularity)\u001B[0m\n\u001B[1;32m      7\u001B[0m     }\n\u001B[1;32m      8\u001B[0m     \u001B[0mr\u001B[0m \u001B[0;34m=\u001B[0m \u001B[0minstruments\u001B[0m\u001B[0;34m.\u001B[0m\u001B[0mInstrumentsCandles\u001B[0m\u001B[0;34m(\u001B[0m\u001B[0minstrument\u001B[0m\u001B[0;34m,\u001B[0m \u001B[0mparams\u001B[0m\u001B[0;34m)\u001B[0m\u001B[0;34m\u001B[0m\u001B[0;34m\u001B[0m\u001B[0m\n\u001B[0;32m----> 9\u001B[0;31m     \u001B[0mresp\u001B[0m \u001B[0;34m=\u001B[0m \u001B[0moanda_api\u001B[0m\u001B[0;34m.\u001B[0m\u001B[0mrequest\u001B[0m\u001B[0;34m(\u001B[0m\u001B[0mr\u001B[0m\u001B[0;34m)\u001B[0m\u001B[0;34m\u001B[0m\u001B[0;34m\u001B[0m\u001B[0m\n\u001B[0m\u001B[1;32m     10\u001B[0m     \u001B[0mdata\u001B[0m \u001B[0;34m=\u001B[0m \u001B[0;34m[\u001B[0m\u001B[0;34m]\u001B[0m\u001B[0;34m\u001B[0m\u001B[0;34m\u001B[0m\u001B[0m\n\u001B[1;32m     11\u001B[0m     \u001B[0;32mfor\u001B[0m \u001B[0mcandle\u001B[0m \u001B[0;32min\u001B[0m \u001B[0mresp\u001B[0m\u001B[0;34m[\u001B[0m\u001B[0;34m\"candles\"\u001B[0m\u001B[0;34m]\u001B[0m\u001B[0;34m:\u001B[0m\u001B[0;34m\u001B[0m\u001B[0;34m\u001B[0m\u001B[0m\n",
      "\u001B[0;32m~/.conda/envs/market_analysis/lib/python3.8/site-packages/oandapyV20/oandapyV20.py\u001B[0m in \u001B[0;36mrequest\u001B[0;34m(self, endpoint)\u001B[0m\n\u001B[1;32m    303\u001B[0m                 endpoint)\n\u001B[1;32m    304\u001B[0m \u001B[0;34m\u001B[0m\u001B[0m\n\u001B[0;32m--> 305\u001B[0;31m             response = self.__request(method, url,\n\u001B[0m\u001B[1;32m    306\u001B[0m                                       request_args, headers=headers)\n\u001B[1;32m    307\u001B[0m             \u001B[0mcontent\u001B[0m \u001B[0;34m=\u001B[0m \u001B[0mresponse\u001B[0m\u001B[0;34m.\u001B[0m\u001B[0mcontent\u001B[0m\u001B[0;34m.\u001B[0m\u001B[0mdecode\u001B[0m\u001B[0;34m(\u001B[0m\u001B[0;34m'utf-8'\u001B[0m\u001B[0;34m)\u001B[0m\u001B[0;34m\u001B[0m\u001B[0;34m\u001B[0m\u001B[0m\n",
      "\u001B[0;32m~/.conda/envs/market_analysis/lib/python3.8/site-packages/oandapyV20/oandapyV20.py\u001B[0m in \u001B[0;36m__request\u001B[0;34m(self, method, url, request_args, headers, stream)\u001B[0m\n\u001B[1;32m    240\u001B[0m                          \u001B[0mresponse\u001B[0m\u001B[0;34m.\u001B[0m\u001B[0mstatus_code\u001B[0m\u001B[0;34m,\u001B[0m\u001B[0;34m\u001B[0m\u001B[0;34m\u001B[0m\u001B[0m\n\u001B[1;32m    241\u001B[0m                          response.content.decode('utf-8'))\n\u001B[0;32m--> 242\u001B[0;31m             raise V20Error(response.status_code,\n\u001B[0m\u001B[1;32m    243\u001B[0m                            response.content.decode('utf-8'))\n\u001B[1;32m    244\u001B[0m         \u001B[0;32mreturn\u001B[0m \u001B[0mresponse\u001B[0m\u001B[0;34m\u001B[0m\u001B[0;34m\u001B[0m\u001B[0m\n",
      "\u001B[0;31mV20Error\u001B[0m: {\"errorMessage\":\"Maximum value for 'count' exceeded\"}"
     ]
    }
   ],
   "source": [
    "UTC = datetime.timezone.utc\n",
    "date_from = datetime.datetime(2020, 11, 3, 0, 0, tzinfo=UTC)\n",
    "date_to = datetime.datetime(2020, 11, 9, 23, 55, tzinfo=UTC)\n",
    "candles = oanda.get_candles(\"USD_JPY\", date_from, date_to, \"M5\")\n",
    "print(candles)"
   ]
  },
  {
   "cell_type": "code",
   "execution_count": null,
   "metadata": {
    "pycharm": {
     "name": "#%%\n"
    }
   },
   "outputs": [],
   "source": [
    "from backtesting import Strategy\n",
    "from backtesting.lib import crossover\n",
    "import talib\n",
    "\n",
    "def EMA_Backtesting(values, n):\n",
    "    \"\"\"\n",
    "    Return exponential moving average of `values`, at\n",
    "    each step taking into account `n` previous values.\n",
    "    \"\"\"\n",
    "    close = pd.Series(values)\n",
    "    return talib.EMA(close, timeperiod=n)\n",
    "\n",
    "class EmaCrossStrategy(Strategy):\n",
    "\n",
    "    # Define the two EMA lags as *class variables*\n",
    "    # for later optimization\n",
    "    n1 = 5\n",
    "    n2 = 10\n",
    "\n",
    "    def init(self):\n",
    "        # Precompute two moving averages\n",
    "        self.ema1 = self.I(EMA_Backtesting, self.data.Close, self.n1)\n",
    "        self.ema2 = self.I(EMA_Backtesting, self.data.Close, self.n2)\n",
    "\n",
    "    def next(self):\n",
    "        # If ema1 crosses above ema2, buy the asset\n",
    "        if crossover(self.ema1, self.ema2):\n",
    "            self.position.close()\n",
    "            self.buy()\n",
    "\n",
    "        # Else, if ema1 crosses below ema2, sell it\n",
    "        elif crossover(self.ema2, self.ema1):\n",
    "            self.position.close()\n",
    "            self.sell()"
   ]
  },
  {
   "cell_type": "code",
   "execution_count": null,
   "metadata": {
    "pycharm": {
     "name": "#%%\n"
    }
   },
   "outputs": [],
   "source": [
    "from backtesting import Backtest\n",
    "\n",
    "candles_ = candles.copy()\n",
    "bt_ema = Backtest(candles_, EmaCrossStrategy, cash=1, commission=0, trade_on_close=True)\n",
    "bt_ema.run()\n",
    "bt_ema.plot()"
   ]
  }
 ],
 "metadata": {
  "kernelspec": {
   "display_name": "Python 3",
   "language": "python",
   "name": "python3"
  },
  "language_info": {
   "codemirror_mode": {
    "name": "ipython",
    "version": 3
   },
   "file_extension": ".py",
   "mimetype": "text/x-python",
   "name": "python",
   "nbconvert_exporter": "python",
   "pygments_lexer": "ipython3",
   "version": "3.8.5"
  }
 },
 "nbformat": 4,
 "nbformat_minor": 1
}