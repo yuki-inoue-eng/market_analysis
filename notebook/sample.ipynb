{
 "cells": [
  {
   "cell_type": "markdown",
   "source": [
    "https://ailog.site/tags/Pandas/"
   ],
   "metadata": {
    "collapsed": false,
    "pycharm": {
     "name": "#%% md\n"
    }
   }
  },
  {
   "cell_type": "code",
   "execution_count": 7,
   "metadata": {
    "collapsed": true
   },
   "outputs": [],
   "source": [
    "# import pandas as pd\n",
    "import time\n",
    "import datetime\n",
    "import oanda\n",
    "# df = pd.read_csv(\"../data/testdata.csv\")"
   ]
  },
  {
   "cell_type": "code",
   "execution_count": 11,
   "outputs": [
    {
     "name": "stdout",
     "output_type": "stream",
     "text": [
      "1609565069.9082549\n",
      "2021-01-02 14:18:32\n",
      "1609564712.0\n"
     ]
    },
    {
     "ename": "NameError",
     "evalue": "name 'df' is not defined",
     "output_type": "error",
     "traceback": [
      "\u001B[0;31m---------------------------------------------------------------------------\u001B[0m",
      "\u001B[0;31mNameError\u001B[0m                                 Traceback (most recent call last)",
      "\u001B[0;32m<ipython-input-11-f68090641967>\u001B[0m in \u001B[0;36m<module>\u001B[0;34m\u001B[0m\n\u001B[1;32m      2\u001B[0m \u001B[0mprint\u001B[0m\u001B[0;34m(\u001B[0m\u001B[0mdatetime\u001B[0m\u001B[0;34m.\u001B[0m\u001B[0mdatetime\u001B[0m\u001B[0;34m.\u001B[0m\u001B[0mfromtimestamp\u001B[0m\u001B[0;34m(\u001B[0m\u001B[0;36m1609564712\u001B[0m\u001B[0;34m)\u001B[0m\u001B[0;34m)\u001B[0m\u001B[0;34m\u001B[0m\u001B[0;34m\u001B[0m\u001B[0m\n\u001B[1;32m      3\u001B[0m \u001B[0mprint\u001B[0m\u001B[0;34m(\u001B[0m\u001B[0mdatetime\u001B[0m\u001B[0;34m.\u001B[0m\u001B[0mdatetime\u001B[0m\u001B[0;34m(\u001B[0m\u001B[0;36m2021\u001B[0m\u001B[0;34m,\u001B[0m \u001B[0;36m1\u001B[0m\u001B[0;34m,\u001B[0m \u001B[0;36m2\u001B[0m\u001B[0;34m,\u001B[0m \u001B[0;36m14\u001B[0m\u001B[0;34m,\u001B[0m \u001B[0;36m18\u001B[0m\u001B[0;34m,\u001B[0m \u001B[0;36m32\u001B[0m\u001B[0;34m)\u001B[0m\u001B[0;34m.\u001B[0m\u001B[0mtimestamp\u001B[0m\u001B[0;34m(\u001B[0m\u001B[0;34m)\u001B[0m\u001B[0;34m)\u001B[0m\u001B[0;34m\u001B[0m\u001B[0;34m\u001B[0m\u001B[0m\n\u001B[0;32m----> 4\u001B[0;31m \u001B[0mdf\u001B[0m\u001B[0;34m.\u001B[0m\u001B[0mhead\u001B[0m\u001B[0;34m(\u001B[0m\u001B[0;34m)\u001B[0m\u001B[0;34m\u001B[0m\u001B[0;34m\u001B[0m\u001B[0m\n\u001B[0m\u001B[1;32m      5\u001B[0m \u001B[0;34m\u001B[0m\u001B[0m\n",
      "\u001B[0;31mNameError\u001B[0m: name 'df' is not defined"
     ]
    }
   ],
   "source": [
    "print(time.time())\n",
    "print(datetime.datetime.fromtimestamp(1609564712))\n",
    "print(datetime.datetime(2021, 1, 2, 14, 18, 32).timestamp())\n",
    "df.head()"
   ],
   "metadata": {
    "collapsed": false,
    "pycharm": {
     "name": "#%%\n"
    }
   }
  },
  {
   "cell_type": "code",
   "execution_count": 20,
   "outputs": [
    {
     "data": {
      "text/plain": "        date station  temp\n11  2018/9/1      福島  21.9\n12  2018/9/1      水戸  23.7\n13  2018/9/1      千葉  27.5\n14  2018/9/1     宇都宮  23.2\n15  2018/9/1    さいたま  24.8",
      "text/html": "<div>\n<style scoped>\n    .dataframe tbody tr th:only-of-type {\n        vertical-align: middle;\n    }\n\n    .dataframe tbody tr th {\n        vertical-align: top;\n    }\n\n    .dataframe thead th {\n        text-align: right;\n    }\n</style>\n<table border=\"1\" class=\"dataframe\">\n  <thead>\n    <tr style=\"text-align: right;\">\n      <th></th>\n      <th>date</th>\n      <th>station</th>\n      <th>temp</th>\n    </tr>\n  </thead>\n  <tbody>\n    <tr>\n      <th>11</th>\n      <td>2018/9/1</td>\n      <td>福島</td>\n      <td>21.9</td>\n    </tr>\n    <tr>\n      <th>12</th>\n      <td>2018/9/1</td>\n      <td>水戸</td>\n      <td>23.7</td>\n    </tr>\n    <tr>\n      <th>13</th>\n      <td>2018/9/1</td>\n      <td>千葉</td>\n      <td>27.5</td>\n    </tr>\n    <tr>\n      <th>14</th>\n      <td>2018/9/1</td>\n      <td>宇都宮</td>\n      <td>23.2</td>\n    </tr>\n    <tr>\n      <th>15</th>\n      <td>2018/9/1</td>\n      <td>さいたま</td>\n      <td>24.8</td>\n    </tr>\n  </tbody>\n</table>\n</div>"
     },
     "execution_count": 20,
     "metadata": {},
     "output_type": "execute_result"
    }
   ],
   "source": [
    "df.tail()"
   ],
   "metadata": {
    "collapsed": false,
    "pycharm": {
     "name": "#%%\n"
    }
   }
  },
  {
   "cell_type": "code",
   "execution_count": 21,
   "outputs": [],
   "source": [
    "df_sliced = df.iloc[2:7]"
   ],
   "metadata": {
    "collapsed": false,
    "pycharm": {
     "name": "#%%\n"
    }
   }
  },
  {
   "cell_type": "code",
   "execution_count": 22,
   "outputs": [
    {
     "data": {
      "text/plain": "       date station  temp\n2  2018/9/1      仙台  21.5\n3  2018/9/1      東京  25.9\n4  2018/9/1      福岡  25.5\n5  2018/9/1     鹿児島  26.8\n6  2018/9/1      那覇  27.6",
      "text/html": "<div>\n<style scoped>\n    .dataframe tbody tr th:only-of-type {\n        vertical-align: middle;\n    }\n\n    .dataframe tbody tr th {\n        vertical-align: top;\n    }\n\n    .dataframe thead th {\n        text-align: right;\n    }\n</style>\n<table border=\"1\" class=\"dataframe\">\n  <thead>\n    <tr style=\"text-align: right;\">\n      <th></th>\n      <th>date</th>\n      <th>station</th>\n      <th>temp</th>\n    </tr>\n  </thead>\n  <tbody>\n    <tr>\n      <th>2</th>\n      <td>2018/9/1</td>\n      <td>仙台</td>\n      <td>21.5</td>\n    </tr>\n    <tr>\n      <th>3</th>\n      <td>2018/9/1</td>\n      <td>東京</td>\n      <td>25.9</td>\n    </tr>\n    <tr>\n      <th>4</th>\n      <td>2018/9/1</td>\n      <td>福岡</td>\n      <td>25.5</td>\n    </tr>\n    <tr>\n      <th>5</th>\n      <td>2018/9/1</td>\n      <td>鹿児島</td>\n      <td>26.8</td>\n    </tr>\n    <tr>\n      <th>6</th>\n      <td>2018/9/1</td>\n      <td>那覇</td>\n      <td>27.6</td>\n    </tr>\n  </tbody>\n</table>\n</div>"
     },
     "execution_count": 22,
     "metadata": {},
     "output_type": "execute_result"
    }
   ],
   "source": [
    "df_sliced"
   ],
   "metadata": {
    "collapsed": false,
    "pycharm": {
     "name": "#%%\n"
    }
   }
  },
  {
   "cell_type": "code",
   "execution_count": 23,
   "outputs": [
    {
     "data": {
      "text/plain": "       date station  temp\n0  2018/9/1      札幌  19.5\n1  2018/9/1      青森  21.5\n2  2018/9/1      仙台  21.5\n3  2018/9/1      東京  25.9\n4  2018/9/1      福岡  25.5",
      "text/html": "<div>\n<style scoped>\n    .dataframe tbody tr th:only-of-type {\n        vertical-align: middle;\n    }\n\n    .dataframe tbody tr th {\n        vertical-align: top;\n    }\n\n    .dataframe thead th {\n        text-align: right;\n    }\n</style>\n<table border=\"1\" class=\"dataframe\">\n  <thead>\n    <tr style=\"text-align: right;\">\n      <th></th>\n      <th>date</th>\n      <th>station</th>\n      <th>temp</th>\n    </tr>\n  </thead>\n  <tbody>\n    <tr>\n      <th>0</th>\n      <td>2018/9/1</td>\n      <td>札幌</td>\n      <td>19.5</td>\n    </tr>\n    <tr>\n      <th>1</th>\n      <td>2018/9/1</td>\n      <td>青森</td>\n      <td>21.5</td>\n    </tr>\n    <tr>\n      <th>2</th>\n      <td>2018/9/1</td>\n      <td>仙台</td>\n      <td>21.5</td>\n    </tr>\n    <tr>\n      <th>3</th>\n      <td>2018/9/1</td>\n      <td>東京</td>\n      <td>25.9</td>\n    </tr>\n    <tr>\n      <th>4</th>\n      <td>2018/9/1</td>\n      <td>福岡</td>\n      <td>25.5</td>\n    </tr>\n  </tbody>\n</table>\n</div>"
     },
     "execution_count": 23,
     "metadata": {},
     "output_type": "execute_result"
    }
   ],
   "source": [
    "df.head()"
   ],
   "metadata": {
    "collapsed": false,
    "pycharm": {
     "name": "#%%\n"
    }
   }
  },
  {
   "cell_type": "code",
   "execution_count": 24,
   "outputs": [
    {
     "data": {
      "text/plain": "0     19.5\n1     21.5\n2     21.5\n3     25.9\n4     25.5\n5     26.8\n6     27.6\n7     27.3\n8     22.2\n9     22.0\n10    20.8\n11    21.9\n12    23.7\n13    27.5\n14    23.2\n15    24.8\nName: temp, dtype: float64"
     },
     "execution_count": 24,
     "metadata": {},
     "output_type": "execute_result"
    }
   ],
   "source": [
    "df[\"temp\"]\n"
   ],
   "metadata": {
    "collapsed": false,
    "pycharm": {
     "name": "#%%\n"
    }
   }
  },
  {
   "cell_type": "code",
   "execution_count": 25,
   "outputs": [
    {
     "name": "stdout",
     "output_type": "stream",
     "text": [
      "最大値\n"
     ]
    }
   ],
   "source": [
    "print(\"最大値\", df[\"temp\"].max())\n",
    "\n"
   ],
   "metadata": {
    "collapsed": false,
    "pycharm": {
     "name": "#%%\n"
    }
   }
  }
 ],
 "metadata": {
  "kernelspec": {
   "display_name": "Python 3",
   "language": "python",
   "name": "python3"
  },
  "language_info": {
   "codemirror_mode": {
    "name": "ipython",
    "version": 2
   },
   "file_extension": ".py",
   "mimetype": "text/x-python",
   "name": "python",
   "nbconvert_exporter": "python",
   "pygments_lexer": "ipython2",
   "version": "2.7.6"
  }
 },
 "nbformat": 4,
 "nbformat_minor": 0
}